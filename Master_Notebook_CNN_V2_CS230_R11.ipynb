{
  "nbformat": 4,
  "nbformat_minor": 0,
  "metadata": {
    "colab": {
      "name": "Copy of Master-Notebook-CNN-V2-CS230.ipynb",
      "provenance": [],
      "collapsed_sections": [],
      "include_colab_link": true
    },
    "kernelspec": {
      "name": "python3",
      "display_name": "Python 3"
    },
    "accelerator": "GPU"
  },
  "cells": [
    {
      "cell_type": "markdown",
      "metadata": {
        "id": "view-in-github",
        "colab_type": "text"
      },
      "source": [
        "<a href=\"https://colab.research.google.com/github/nhv3/Master-Control-230/blob/master/Master_Notebook_CNN_V2_CS230_R11.ipynb\" target=\"_parent\"><img src=\"https://colab.research.google.com/assets/colab-badge.svg\" alt=\"Open In Colab\"/></a>"
      ]
    },
    {
      "cell_type": "code",
      "metadata": {
        "id": "JNrIXyDvk0HA",
        "colab_type": "code",
        "colab": {}
      },
      "source": [
        "##VERSION \n",
        "# Removed TF1\n",
        "# Removed ignite metrics, focusing on visualization for now\n",
        "# Using resnet18, not pretrained\n",
        "# Decreased batch size, image size, and epoch #\n",
        "# Added normalization in data_transforms to match normalization in imshow (without matching plotted images look bad) - may need to adjust these parameters later\n",
        "\n",
        "# To add to AWS notebook: dataloader/imshow normalization matching, imshow & visualize_model functions"
      ],
      "execution_count": 0,
      "outputs": []
    },
    {
      "cell_type": "code",
      "metadata": {
        "id": "MGJX43HQ4lxZ",
        "colab_type": "code",
        "outputId": "6f947ecf-d8ba-4dc2-8522-8abcda78e938",
        "colab": {
          "base_uri": "https://localhost:8080/",
          "height": 122
        }
      },
      "source": [
        "# Click on the URL link it gives you to mount the drive \n",
        "##NEW change comment to test git push\n",
        "from google.colab import drive\n",
        "drive.mount('/content/drive')"
      ],
      "execution_count": 2,
      "outputs": [
        {
          "output_type": "stream",
          "text": [
            "Go to this URL in a browser: https://accounts.google.com/o/oauth2/auth?client_id=947318989803-6bn6qk8qdgf4n4g3pfee6491hc0brc4i.apps.googleusercontent.com&redirect_uri=urn%3aietf%3awg%3aoauth%3a2.0%3aoob&response_type=code&scope=email%20https%3a%2f%2fwww.googleapis.com%2fauth%2fdocs.test%20https%3a%2f%2fwww.googleapis.com%2fauth%2fdrive%20https%3a%2f%2fwww.googleapis.com%2fauth%2fdrive.photos.readonly%20https%3a%2f%2fwww.googleapis.com%2fauth%2fpeopleapi.readonly\n",
            "\n",
            "Enter your authorization code:\n",
            "··········\n",
            "Mounted at /content/drive\n"
          ],
          "name": "stdout"
        }
      ]
    },
    {
      "cell_type": "code",
      "metadata": {
        "id": "Mw5cDdET4tNr",
        "colab_type": "code",
        "outputId": "11c98f70-f5d7-464c-aeb9-d3e915127223",
        "colab": {
          "base_uri": "https://localhost:8080/",
          "height": 34
        }
      },
      "source": [
        "cd /content/drive/My Drive/CS230 Project/Data"
      ],
      "execution_count": 3,
      "outputs": [
        {
          "output_type": "stream",
          "text": [
            "/content/drive/My Drive/CS230 Project/Data\n"
          ],
          "name": "stdout"
        }
      ]
    },
    {
      "cell_type": "code",
      "metadata": {
        "id": "WMh6atIqzkus",
        "colab_type": "code",
        "colab": {}
      },
      "source": [
        "#Import the right libraries \n",
        "import pandas as pd \n",
        "from PIL import Image\n",
        "import matplotlib.pyplot as plt\n",
        "import numpy as np\n",
        "import pathlib\n",
        "from distutils.dir_util import copy_tree\n",
        "import os\n",
        "import random\n",
        "import shutil\n",
        "import array as arr \n",
        "import torchvision\n",
        "from torchvision import datasets, models, transforms"
      ],
      "execution_count": 0,
      "outputs": []
    },
    {
      "cell_type": "code",
      "metadata": {
        "id": "vDWKWWXw0A4D",
        "colab_type": "code",
        "outputId": "436bff64-8e21-4780-e970-9a880f7c107e",
        "colab": {
          "base_uri": "https://localhost:8080/",
          "height": 153
        }
      },
      "source": [
        "# Declare all the COVID image paths\n",
        "trainCOVID_dir = \"/content/drive/My Drive/CS230 Project/Data/train_images/COVID\"\n",
        "valCOVID_dir = \"/content/drive/My Drive/CS230 Project/Data/val_images/COVID\"\n",
        "testCOVID_dir = \"/content/drive/My Drive/CS230 Project/Data/test_images/COVID\"\n",
        "\n",
        "trainNONCOVID_dir = \"/content/drive/My Drive/CS230 Project/Data/train_images/NON_COVID\"\n",
        "valNONCOVID_dir = \"/content/drive/My Drive/CS230 Project/Data/val_images/NON_COVID\"\n",
        "testNONCOVID_dir = \"/content/drive/My Drive/CS230 Project/Data/test_images/NON_COVID\"\n",
        "\n",
        "# Declare paths\n",
        "covid_dir = \"/content/drive/My Drive/CS230 Project/Data/COVID\"\n",
        "noncovid_dir =\"/content/drive/My Drive/CS230 Project/Data/Non-COVID\"\n",
        "train_dir = \"/content/drive/My Drive/CS230 Project/Data/Sets/Training\"\n",
        "sets_dir = \"/content/drive/My Drive/CS230 Project/Data/Sets/\"\n",
        "train_dir_cov = \"/content/drive/My Drive/CS230 Project/Data/Sets/Training/COVID\"\n",
        "train_dir_ncov = \"/content/drive/My Drive/CS230 Project/Data/Sets/Training/Non-COVID\"\n",
        "dev_dir = \"/content/drive/My Drive/CS230 Project/Data/Sets/Dev\"\n",
        "dev_dir_cov = \"/content/drive/My Drive/CS230 Project/Data/Sets/Dev/COVID\"\n",
        "dev_dir_ncov = \"/content/drive/My Drive/CS230 Project/Data/Sets/Dev/Non-COVID\"\n",
        "test_dir = \"/content/drive/My Drive/CS230 Project/Data/Sets/Test\"\n",
        "test_dir_cov = \"/content/drive/My Drive/CS230 Project/Data/Sets/Test/COVID\"\n",
        "test_dir_ncov = \"/content/drive/My Drive/CS230 Project/Data/Sets/Test/Non-COVID\"\n",
        "\n",
        "#Image path for new data imported from ActualMed Repo \n",
        "covid_amed_dir = '/content/drive/My Drive/CS230 Project/Data/New Data/covid';\n",
        "ncovid_amed_dir = '/content/drive/My Drive/CS230 Project/Data/New Data/ncovid'; \n",
        "\n",
        "print('Checking Volumes :::: ')\n",
        "train_cov_numr = len(os.listdir(train_dir_cov))\n",
        "dev_cov_numr = len(os.listdir(dev_dir_cov))\n",
        "test_cov_numr = len(os.listdir(test_dir_cov))\n",
        "train_ncov_numr = len(os.listdir(train_dir_ncov))\n",
        "dev_ncov_numr = len(os.listdir(dev_dir_ncov))\n",
        "test_ncov_numr = len(os.listdir(test_dir_ncov))\n",
        "\n",
        "train_cov_nume = 170\n",
        "dev_cov_nume = 65\n",
        "test_cov_nume = 65\n",
        "train_ncov_nume = 871\n",
        "dev_ncov_nume = 65\n",
        "test_ncov_nume = 65\n",
        "\n",
        "estimated = [train_cov_nume, dev_cov_nume,  test_cov_nume,  train_ncov_nume, dev_ncov_nume, test_ncov_nume]\n",
        "retrieved = [train_cov_numr, dev_cov_numr,  test_cov_numr,  train_ncov_numr, dev_ncov_numr, test_ncov_numr]\n",
        "same = (estimated == retrieved) \n",
        "\n",
        "if(same): \n",
        "  print('Sets are imported as expected')\n",
        "  blockrun = True\n",
        "\n",
        "else: \n",
        "  print('Sets are not the same - look at the configuations printed below')\n",
        "\n",
        "#Check if Train/Dev/Test Sets are Populated\n",
        "print('Total images in training covid set: ' + str(train_cov_numr) + ':::::: Expected ::::: ' + str(train_cov_nume)) #expected: \n",
        "print('Total images in training noncovid set: ' + str(train_ncov_numr) + ':::::: Expected ::::: ' + str(train_ncov_nume)) #expected: \n",
        "print('Total images in dev covid set: ' + str(dev_cov_numr) + ':::::: Expected ::::: ' + str(dev_cov_nume)) #expected:\n",
        "print('Total images in dev noncovid set: ' +  str(dev_ncov_numr) + ':::::: Expected ::::: ' + str(dev_ncov_nume)) #expected: \n",
        "print('Total images in test covid set: ' +  str(test_cov_numr) + ':::::: Expected ::::: ' + str(test_cov_nume)) #expected: \n",
        "print('Total images in test noncovid set: ' + str(test_ncov_numr) + ':::::: Expected ::::: ' + str(test_ncov_nume)) #expected: \n"
      ],
      "execution_count": 5,
      "outputs": [
        {
          "output_type": "stream",
          "text": [
            "Checking Volumes :::: \n",
            "Sets are imported as expected\n",
            "Total images in training covid set: 170:::::: Expected ::::: 170\n",
            "Total images in training noncovid set: 871:::::: Expected ::::: 871\n",
            "Total images in dev covid set: 65:::::: Expected ::::: 65\n",
            "Total images in dev noncovid set: 65:::::: Expected ::::: 65\n",
            "Total images in test covid set: 65:::::: Expected ::::: 65\n",
            "Total images in test noncovid set: 65:::::: Expected ::::: 65\n"
          ],
          "name": "stdout"
        }
      ]
    },
    {
      "cell_type": "code",
      "metadata": {
        "id": "ea3fk9zL5LQm",
        "colab_type": "code",
        "outputId": "f8bf32ba-9270-4d37-f0ab-0c6f4a64c39f",
        "colab": {
          "base_uri": "https://localhost:8080/",
          "height": 105
        }
      },
      "source": [
        "# Only Run if Train/Dev/Test Unpopulated\n",
        "# Pools all COVID/NonCOVID Images\n",
        "\n",
        "#os.makedirs(covid_dir)\n",
        "#os.makedirs(noncovid_dir)\n",
        "#os.makedirs(train_dir_cov) \n",
        "#os.makedirs(train_dir_ncov)\n",
        "#os.makedirs(dev_dir_cov)\n",
        "#os.makedirs(dev_dir_ncov)\n",
        "#os.makedirs(test_dir_cov)\n",
        "#os.makedirs(test_dir_ncov)\n",
        "\n",
        "if (not same):\n",
        "  covid_path = pathlib.Path('/content/drive/My Drive/CS230 Project/Data/COVID')\n",
        "  noncovid_path = pathlib.Path('/content/drive/My Drive/CS230 Project/Data/Non-COVID')\n",
        "\n",
        "  #Move all the COVID and Non-COVID Images into their own folders (done once)\n",
        "  copy_tree(trainCOVID_dir, covid_dir)\n",
        "  copy_tree(valCOVID_dir, covid_dir)\n",
        "  copy_tree(testCOVID_dir, covid_dir)\n",
        "  copy_tree(covid_amed_dir, covid_dir)\n",
        "\n",
        "  copy_tree(trainNONCOVID_dir, noncovid_dir)\n",
        "  copy_tree(valNONCOVID_dir, noncovid_dir)\n",
        "  copy_tree(testNONCOVID_dir, noncovid_dir)\n",
        "  copy_tree(ncovid_amed_dir, noncovid_dir)\n",
        "\n",
        "  #Count up data\n",
        "  image_count_covid = len(os.listdir(covid_dir))\n",
        "  image_count_noncovid = len(os.listdir(noncovid_dir))\n",
        "  print(\"Total images in COVID set: \" + str(image_count_covid))\n",
        "  print(\"Total images in Non-COVID set: \" + str(image_count_noncovid))\n",
        "\n",
        "  total_images = image_count_covid+image_count_noncovid\n",
        "  print(\"Total images: \" + str(total_images))\n",
        "\n",
        "else: \n",
        "  #Count up data\n",
        "  print('Folders are already populated, no need to reload sets. If sets have been loaded, COVID and Non-Covid drives will show 0 since the files were moved')\n",
        "  image_count_covid = len(os.listdir(covid_dir))\n",
        "  image_count_noncovid = len(os.listdir(noncovid_dir))\n",
        "  print(\"Total images in COVID set: \" + str(image_count_covid))\n",
        "  print(\"Total images in Non-COVID set: \" + str(image_count_noncovid))\n",
        "\n",
        "  total_images = image_count_covid+image_count_noncovid\n",
        "  print(\"Total images: \" + str(total_images))\n"
      ],
      "execution_count": 0,
      "outputs": [
        {
          "output_type": "stream",
          "text": [
            "Folders are already populated, no need to reload sets. If sets have been loaded, COVID and Non-Covid drives will show 0 since the files were moved\n",
            "Total images in COVID set: 0\n",
            "Total images in Non-COVID set: 0\n",
            "Total images: 0\n"
          ],
          "name": "stdout"
        }
      ]
    },
    {
      "cell_type": "code",
      "metadata": {
        "id": "B5x-szKF5p8C",
        "colab_type": "code",
        "outputId": "af334bf0-e9ac-4710-8fe3-7abe72431f84",
        "colab": {
          "base_uri": "https://localhost:8080/",
          "height": 34
        }
      },
      "source": [
        "# Only Run if Train/Dev/Test Unpopulated\n",
        "# Move the data to Training, Dev, and Test sets (80-10-10)\n",
        "numdevtest = total_images//10\n",
        "\n",
        "if(not same):\n",
        "  # Define dev/test covid:non-covid ratio\n",
        "\n",
        "  for ii in range(numdevtest//2):\n",
        "    image = random.choice(os.listdir(covid_dir))\n",
        "    os.rename((covid_dir+\"/\"+image), (test_dir_cov+\"/\"+image))\n",
        "\n",
        "  for ii in range(numdevtest//2):\n",
        "    image = random.choice(os.listdir(noncovid_dir))\n",
        "    os.rename((noncovid_dir+\"/\"+image), (test_dir_ncov+\"/Non-\"+image))\n",
        "\n",
        "  image_count_covid = len(os.listdir(covid_dir))\n",
        "  image_count_noncovid = len(os.listdir(noncovid_dir))\n",
        "  print(\"After populating test set...\")\n",
        "  print(\"Total images in COVID set: \" + str(image_count_covid))\n",
        "  print(\"Total images in Non-COVID set: \" + str(image_count_noncovid))\n",
        "\n",
        "else: \n",
        "  print('Set already populated')\n"
      ],
      "execution_count": 0,
      "outputs": [
        {
          "output_type": "stream",
          "text": [
            "Set already populated\n"
          ],
          "name": "stdout"
        }
      ]
    },
    {
      "cell_type": "code",
      "metadata": {
        "id": "YUFQ9pZ78zDw",
        "colab_type": "code",
        "outputId": "78a036b7-fd08-4064-e057-4ba1ccc9a26c",
        "colab": {
          "base_uri": "https://localhost:8080/",
          "height": 34
        }
      },
      "source": [
        "# Only Run if Train/Dev/Test Unpopulated\n",
        "#Populate dev set\n",
        "if(not same):\n",
        "  for ii in range(numdevtest//2):\n",
        "    image = random.choice(os.listdir(covid_dir))\n",
        "    os.rename((covid_dir+\"/\"+image), (dev_dir_cov+\"/\"+image))\n",
        "\n",
        "  for ii in range(numdevtest//2):\n",
        "    image = random.choice(os.listdir(noncovid_dir))\n",
        "    os.rename((noncovid_dir+\"/\"+image), (dev_dir_ncov+\"/\"+image))\n",
        "\n",
        "  image_count_covid = len(os.listdir(covid_dir))\n",
        "  image_count_noncovid = len(os.listdir(noncovid_dir))\n",
        "  print(\"After populating dev set...\")\n",
        "  print(\"Total images in COVID set: \" + str(image_count_covid))\n",
        "  print(\"Total images in Non-COVID set: \" + str(image_count_noncovid))\n",
        "\n",
        "else: \n",
        "  print('Set already populated')\n"
      ],
      "execution_count": 0,
      "outputs": [
        {
          "output_type": "stream",
          "text": [
            "Set already populated\n"
          ],
          "name": "stdout"
        }
      ]
    },
    {
      "cell_type": "code",
      "metadata": {
        "id": "4j3oJyzs9FFy",
        "colab_type": "code",
        "outputId": "08b6ced1-4099-4df5-a1a0-7e92d081a6f6",
        "colab": {
          "base_uri": "https://localhost:8080/",
          "height": 34
        }
      },
      "source": [
        "# Only Run if Train/Dev/Test Unpopulated\n",
        "# Populate train set \n",
        "if(not same):\n",
        "  for ii in range(image_count_covid):\n",
        "    image = random.choice(os.listdir(covid_dir))\n",
        "    os.rename((covid_dir+\"/\"+image), (train_dir_cov+\"/\"+image))\n",
        "\n",
        "  for ii in range(image_count_noncovid):\n",
        "    image = random.choice(os.listdir(noncovid_dir))\n",
        "    os.rename((noncovid_dir+\"/\"+image), (train_dir_ncov+\"/\"+image))\n",
        "\n",
        "  image_count_covid = len(os.listdir(covid_dir))\n",
        "  image_count_noncovid = len(os.listdir(noncovid_dir))\n",
        "  print(\"After populating training set...\")\n",
        "  print(\"Total images in COVID set: \" + str(image_count_covid))\n",
        "  print(\"Total images in Non-COVID set: \" + str(image_count_noncovid))\n",
        "\n",
        "else: \n",
        "  print('Set already populated')\n"
      ],
      "execution_count": 0,
      "outputs": [
        {
          "output_type": "stream",
          "text": [
            "Set already populated\n"
          ],
          "name": "stdout"
        }
      ]
    },
    {
      "cell_type": "code",
      "metadata": {
        "id": "XJPgw3_69HmT",
        "colab_type": "code",
        "outputId": "3844e4fb-2826-48dc-b2b1-fc152f9a3036",
        "colab": {
          "base_uri": "https://localhost:8080/",
          "height": 34
        }
      },
      "source": [
        "import torch\n",
        "from skimage import io, transform\n",
        "from torch.utils.data import Dataset, DataLoader\n",
        "from torchvision import transforms, utils, datasets, models\n",
        "\n",
        "#CLASS_NAMES = np.array([item.name for item in train_dir if item.name != '.ipynb_checkpoints'])\n",
        "CLASS_NAMES = np.array(os.listdir(train_dir))\n",
        "\n",
        "\n",
        "# %tensorflow_version 1.x\n",
        "import tensorflow as tf\n",
        "# The 1./255 is to convert from uint8 to float32 in range [0,1].\n",
        "#image_generator = tf.keras.preprocessing.image.ImageDataGenerator(rescale=1./255)\n",
        "\n",
        "\n",
        "\n",
        "image_count_train = len(os.listdir(train_dir_cov))+len(os.listdir(train_dir_ncov))\n",
        "image_count_dev = len(os.listdir(dev_dir_cov))+len(os.listdir(dev_dir_ncov))\n",
        "image_count_test = len(os.listdir(test_dir_cov))+len(os.listdir(test_dir_ncov))\n",
        "##Getting images just for train for now. Will get the other in later. But use the train first to test some type of model to see baseline errors \n",
        "BATCH_SIZE = 16\n",
        "IMG_HEIGHT = 200\n",
        "IMG_WIDTH = 200\n",
        "STEPS_PER_EPOCH_train = np.ceil(image_count_train/BATCH_SIZE)\n",
        "STEPS_PER_EPOCH_test = np.ceil(image_count_test/BATCH_SIZE)\n",
        "STEPS_PER_EPOCH_val = np.ceil(image_count_dev/BATCH_SIZE)\n",
        "\n",
        "data_transforms = {\n",
        "    'train': transforms.Compose([\n",
        "        transforms.Resize((IMG_HEIGHT, IMG_WIDTH)),\n",
        "        transforms.ToTensor(), \n",
        "        transforms.Normalize([0.485, 0.456, 0.406], [0.229, 0.224, 0.225])\n",
        "    ]),\n",
        "    'val': transforms.Compose([\n",
        "        transforms.Resize((IMG_HEIGHT, IMG_WIDTH)),\n",
        "        transforms.ToTensor(), \n",
        "        transforms.Normalize([0.485, 0.456, 0.406], [0.229, 0.224, 0.225])\n",
        "    ]),\n",
        "    'test': transforms.Compose([\n",
        "        transforms.Resize((IMG_HEIGHT, IMG_WIDTH)),\n",
        "        transforms.ToTensor(), \n",
        "        transforms.Normalize([0.485, 0.456, 0.406], [0.229, 0.224, 0.225])\n",
        "    ])\n",
        "}\n",
        "directories = {'train':'Training', 'val':'Dev', 'test': 'Test'}\n",
        "image_datasets = {x: datasets.ImageFolder(os.path.join(sets_dir, directories[x]),\n",
        "                                          data_transforms[x])\n",
        "                  for x in ['train', 'val', 'test']}\n",
        "dataloaders = {x: torch.utils.data.DataLoader(image_datasets[x], batch_size=BATCH_SIZE,\n",
        "                                             shuffle=True, num_workers=4)\n",
        "              for x in ['train', 'val', 'test']}\n",
        "dataset_sizes = {x: len(image_datasets[x]) for x in ['train', 'val','test']}\n",
        "class_names = image_datasets['train'].classes\n",
        "device = torch.device(\"cuda:0\" if torch.cuda.is_available() else \"cpu\")\n",
        "print(\"Class Names: \" + str(class_names))\n",
        "\n"
      ],
      "execution_count": 6,
      "outputs": [
        {
          "output_type": "stream",
          "text": [
            "Class Names: ['COVID', 'Non-COVID']\n"
          ],
          "name": "stdout"
        }
      ]
    },
    {
      "cell_type": "code",
      "metadata": {
        "id": "3ar-WFQ3-n8H",
        "colab_type": "code",
        "colab": {}
      },
      "source": [
        "def train_model(model, criterion, optimizer, scheduler, num_epochs=25):\n",
        "    since = time.time()\n",
        "\n",
        "    best_model_wts = copy.deepcopy(model.state_dict())\n",
        "    best_acc = 0.0\n",
        "\n",
        "    for epoch in range(num_epochs):\n",
        "        print('Epoch {}/{}'.format(epoch, num_epochs - 1))\n",
        "        print('-' * 10)\n",
        "\n",
        "        # Each epoch has a training and validation phase\n",
        "        for phase in ['train', 'val']:\n",
        "            if phase == 'train':\n",
        "                model.train()  # Set model to training mode\n",
        "            else:\n",
        "                model.eval()   # Set model to evaluate mode\n",
        "\n",
        "            running_loss = 0.0\n",
        "            running_corrects = 0\n",
        "\n",
        "            # Iterate over data.\n",
        "            for inputs, labels in dataloaders[phase]:\n",
        "                inputs = inputs.to(device)\n",
        "                labels = labels.to(device)\n",
        "\n",
        "                # zero the parameter gradients\n",
        "                optimizer.zero_grad()\n",
        "\n",
        "                # forward\n",
        "                # track history if only in train\n",
        "                with torch.set_grad_enabled(phase == 'train'):\n",
        "                    outputs = model(inputs)\n",
        "                    _, preds = torch.max(outputs, 1)\n",
        "                    loss = criterion(outputs, labels)\n",
        "\n",
        "                    # backward + optimize only if in training phase\n",
        "                    if phase == 'train':\n",
        "                        loss.backward()\n",
        "                        optimizer.step()\n",
        "\n",
        "                # statistics\n",
        "                running_loss += loss.item() * inputs.size(0)\n",
        "                running_corrects += torch.sum(preds == labels.data)\n",
        "            if phase == 'train':\n",
        "                scheduler.step()\n",
        "\n",
        "            epoch_loss = running_loss / dataset_sizes[phase]\n",
        "            epoch_acc = running_corrects.double() / dataset_sizes[phase]\n",
        "\n",
        "            print('{} Loss: {:.4f} Acc: {:.4f}'.format(\n",
        "                phase, epoch_loss, epoch_acc))\n",
        "\n",
        "            # deep copy the model\n",
        "            if phase == 'val' and epoch_acc > best_acc:\n",
        "                best_acc = epoch_acc\n",
        "                best_model_wts = copy.deepcopy(model.state_dict())\n",
        "\n",
        "        print()\n",
        "\n",
        "    time_elapsed = time.time() - since\n",
        "    print('Training complete in {:.0f}m {:.0f}s'.format(\n",
        "        time_elapsed // 60, time_elapsed % 60))\n",
        "    print('Best val Acc: {:4f}'.format(best_acc))\n",
        "\n",
        "    # load best model weights\n",
        "    model.load_state_dict(best_model_wts)\n",
        "    return model"
      ],
      "execution_count": 0,
      "outputs": []
    },
    {
      "cell_type": "code",
      "metadata": {
        "id": "Cp4fWZeI0RNe",
        "colab_type": "code",
        "outputId": "04691596-125d-41b8-c2a0-ea1a4d2aa9e4",
        "colab": {
          "base_uri": "https://localhost:8080/",
          "height": 138
        }
      },
      "source": [
        "def imshow(inp, title=None):\n",
        "    \"\"\"Imshow for Tensor.\"\"\"\n",
        "    inp = inp.numpy().transpose((1, 2, 0))\n",
        "    mean = np.array([0.485, 0.456, 0.406])\n",
        "    std = np.array([0.229, 0.224, 0.225])\n",
        "    inp = std * inp + mean\n",
        "    inp = np.clip(inp, 0, 1)\n",
        "    plt.imshow(inp)\n",
        "    if title is not None:\n",
        "        plt.title(title)\n",
        "    plt.pause(0.001)  # pause a bit so that plots are updated\n",
        "\n",
        "\n",
        "# Get a batch of training data\n",
        "inputs, classes = next(iter(dataloaders['train']))\n",
        "\n",
        "# Make a grid from batch\n",
        "out = torchvision.utils.make_grid(inputs)\n",
        "\n",
        "imshow(out, title=[class_names[x] for x in classes])"
      ],
      "execution_count": 8,
      "outputs": [
        {
          "output_type": "display_data",
          "data": {
            "image/png": "[encoded data removed]",
            "text/plain": [
              "<Figure size 432x288 with 1 Axes>"
            ]
          },
          "metadata": {
            "tags": [],
            "needs_background": "light"
          }
        }
      ]
    },
    {
      "cell_type": "code",
      "metadata": {
        "id": "pTdb2TE7_CJg",
        "colab_type": "code",
        "colab": {}
      },
      "source": [
        "def visualize_model(model, num_images=6):\n",
        "    was_training = model.training\n",
        "    model.eval()\n",
        "    images_so_far = 0\n",
        "    fig = plt.figure()\n",
        "\n",
        "    with torch.no_grad():\n",
        "        for i, (inputs, labels) in enumerate(dataloaders['val']):\n",
        "            inputs = inputs.to(device)\n",
        "            labels = labels.to(device)\n",
        "\n",
        "            outputs = model(inputs)\n",
        "            _, preds = torch.max(outputs, 1)\n",
        "\n",
        "            for j in range(inputs.size()[0]):\n",
        "                images_so_far += 1\n",
        "                ax = plt.subplot(num_images//2, 2, images_so_far)\n",
        "                ax.axis('off')\n",
        "                ax.set_title('predicted: {}'.format(class_names[preds[j]]) + '\\n actual: {}'.format(class_names[labels[j]]))\n",
        "                imshow(inputs.cpu().data[j])\n",
        "\n",
        "                if images_so_far == num_images:\n",
        "                    model.train(mode=was_training)\n",
        "                    return\n",
        "        model.train(mode=was_training)"
      ],
      "execution_count": 0,
      "outputs": []
    },
    {
      "cell_type": "code",
      "metadata": {
        "id": "wZm8fWYRFBnX",
        "colab_type": "code",
        "colab": {}
      },
      "source": [
        "import torch.nn as nn\n",
        "import torch.optim as optim\n",
        "from torch.optim import lr_scheduler\n",
        "\n",
        "model_ft = models.resnet18(pretrained=False)\n",
        "model_ft = model_ft.to(device)\n",
        "\n",
        "criterion = nn.CrossEntropyLoss()\n",
        "optimizer_ft = optim.SGD(model_ft.parameters(), lr=0.001, momentum=0.9)\n",
        "exp_lr_scheduler = lr_scheduler.StepLR(optimizer_ft, step_size=7, gamma=0.1)"
      ],
      "execution_count": 0,
      "outputs": []
    },
    {
      "cell_type": "code",
      "metadata": {
        "id": "M1KUGWvyFdKA",
        "colab_type": "code",
        "outputId": "181d3948-5b78-4b5c-fa1b-4e58e671e05c",
        "colab": {
          "base_uri": "https://localhost:8080/",
          "height": 221
        }
      },
      "source": [
        "import time\n",
        "import copy\n",
        "model_ft = train_model(model_ft, criterion, optimizer_ft, exp_lr_scheduler,\n",
        "                       num_epochs=2)"
      ],
      "execution_count": 11,
      "outputs": [
        {
          "output_type": "stream",
          "text": [
            "Epoch 0/1\n",
            "----------\n",
            "train Loss: 1.2826 Acc: 0.7867\n",
            "val Loss: 0.9700 Acc: 0.5000\n",
            "\n",
            "Epoch 1/1\n",
            "----------\n",
            "train Loss: 0.4137 Acc: 0.8367\n",
            "val Loss: 0.9483 Acc: 0.5000\n",
            "\n",
            "Training complete in 3m 25s\n",
            "Best val Acc: 0.500000\n"
          ],
          "name": "stdout"
        }
      ]
    },
    {
      "cell_type": "code",
      "metadata": {
        "id": "ayezcYc6z1fk",
        "colab_type": "code",
        "outputId": "e81366db-0f2c-499f-c9ba-c7dc3be89a30",
        "colab": {
          "base_uri": "https://localhost:8080/",
          "height": 671
        }
      },
      "source": [
        "visualize_model(model_ft)"
      ],
      "execution_count": 12,
      "outputs": [
        {
          "output_type": "display_data",
          "data": {
            "image/png": "[encoded data removed]",
            "text/plain": [
              "<Figure size 432x288 with 1 Axes>"
            ]
          },
          "metadata": {
            "tags": [],
            "needs_background": "light"
          }
        },
        {
          "output_type": "display_data",
          "data": {
            "image/png": "[encoded data removed]",
            "text/plain": [
              "<Figure size 432x288 with 1 Axes>"
            ]
          },
          "metadata": {
            "tags": [],
            "needs_background": "light"
          }
        },
        {
          "output_type": "display_data",
          "data": {
            "image/png": "[encoded data removed]",
            "text/plain": [
              "<Figure size 432x288 with 1 Axes>"
            ]
          },
          "metadata": {
            "tags": [],
            "needs_background": "light"
          }
        },
        {
          "output_type": "display_data",
          "data": {
            "image/png": "[encoded data removed]",
            "text/plain": [
              "<Figure size 432x288 with 1 Axes>"
            ]
          },
          "metadata": {
            "tags": [],
            "needs_background": "light"
          }
        },
        {
          "output_type": "display_data",
          "data": {
            "image/png": "[encoded data removed]",
            "text/plain": [
              "<Figure size 432x288 with 1 Axes>"
            ]
          },
          "metadata": {
            "tags": [],
            "needs_background": "light"
          }
        },
        {
          "output_type": "display_data",
          "data": {
            "image/png": "[encoded data removed]",
            "text/plain": [
              "<Figure size 432x288 with 1 Axes>"
            ]
          },
          "metadata": {
            "tags": [],
            "needs_background": "light"
          }
        }
      ]
    },
    {
      "cell_type": "code",
      "metadata": {
        "id": "csrnwr3306M9",
        "colab_type": "code",
        "colab": {}
      },
      "source": [
        ""
      ],
      "execution_count": 0,
      "outputs": []
    }
  ]
}