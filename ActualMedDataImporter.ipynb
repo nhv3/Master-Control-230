{
  "nbformat": 4,
  "nbformat_minor": 0,
  "metadata": {
    "colab": {
      "name": "ActualMedDataImporter.ipynb",
      "provenance": [],
      "authorship_tag": "ABX9TyNwkCc9IalCm0S0bbQUf6Z+",
      "include_colab_link": true
    },
    "kernelspec": {
      "name": "python3",
      "display_name": "Python 3"
    }
  },
  "cells": [
    {
      "cell_type": "markdown",
      "metadata": {
        "id": "view-in-github",
        "colab_type": "text"
      },
      "source": [
        "<a href=\"https://colab.research.google.com/github/nhv3/Master-Control-230/blob/master/ActualMedDataImporter.ipynb\" target=\"_parent\"><img src=\"https://colab.research.google.com/assets/colab-badge.svg\" alt=\"Open In Colab\"/></a>"
      ]
    },
    {
      "cell_type": "code",
      "metadata": {
        "id": "xqwn3odzI6MX",
        "colab_type": "code",
        "colab": {
          "base_uri": "https://localhost:8080/",
          "height": 122
        },
        "outputId": "d4d5a4f1-fcf3-4440-8b3a-68892b885061"
      },
      "source": [
        "# Click on the URL link it gives you to mount the drive \n",
        "##NEW change comment to test git push\n",
        "from google.colab import drive\n",
        "drive.mount('/content/drive')"
      ],
      "execution_count": 1,
      "outputs": [
        {
          "output_type": "stream",
          "text": [
            "Go to this URL in a browser: https://accounts.google.com/o/oauth2/auth?client_id=947318989803-6bn6qk8qdgf4n4g3pfee6491hc0brc4i.apps.googleusercontent.com&redirect_uri=urn%3aietf%3awg%3aoauth%3a2.0%3aoob&response_type=code&scope=email%20https%3a%2f%2fwww.googleapis.com%2fauth%2fdocs.test%20https%3a%2f%2fwww.googleapis.com%2fauth%2fdrive%20https%3a%2f%2fwww.googleapis.com%2fauth%2fdrive.photos.readonly%20https%3a%2f%2fwww.googleapis.com%2fauth%2fpeopleapi.readonly\n",
            "\n",
            "Enter your authorization code:\n",
            "··········\n",
            "Mounted at /content/drive\n"
          ],
          "name": "stdout"
        }
      ]
    },
    {
      "cell_type": "code",
      "metadata": {
        "id": "YofcBCPfJBi4",
        "colab_type": "code",
        "colab": {
          "base_uri": "https://localhost:8080/",
          "height": 34
        },
        "outputId": "260b1fdb-ec1d-47b4-ac4c-ba3a537f9549"
      },
      "source": [
        "cd /content/drive/My Drive/CS230 Project/Data\n"
      ],
      "execution_count": 2,
      "outputs": [
        {
          "output_type": "stream",
          "text": [
            "/content/drive/My Drive/CS230 Project/Data\n"
          ],
          "name": "stdout"
        }
      ]
    },
    {
      "cell_type": "code",
      "metadata": {
        "id": "P_1bGrwbJMpI",
        "colab_type": "code",
        "colab": {
          "base_uri": "https://localhost:8080/",
          "height": 85
        },
        "outputId": "4ffb88e5-a649-4f64-b1b4-4e7fe27ed99e"
      },
      "source": [
        "ls"
      ],
      "execution_count": 3,
      "outputs": [
        {
          "output_type": "stream",
          "text": [
            " \u001b[0m\u001b[01;34mCOVID\u001b[0m/       \u001b[01;34mNon-COVID\u001b[0m/     test_images.zip    train_set.csv\n",
            " \u001b[01;34mlogs\u001b[0m/        \u001b[01;34mSets\u001b[0m/          test_set.csv       \u001b[01;34mval_images\u001b[0m/\n",
            " model.png    \u001b[01;34mtb_runs\u001b[0m/       \u001b[01;34mtrain_images\u001b[0m/      val_images.zip\n",
            "\u001b[01;34m'New Data'\u001b[0m/   \u001b[01;34mtest_images\u001b[0m/   train_images.zip   val_set.csv\n"
          ],
          "name": "stdout"
        }
      ]
    },
    {
      "cell_type": "code",
      "metadata": {
        "id": "8bzac0pjJNTN",
        "colab_type": "code",
        "colab": {
          "base_uri": "https://localhost:8080/",
          "height": 34
        },
        "outputId": "1ac7cd32-8e39-48c2-abf4-aed6c248967a"
      },
      "source": [
        "cd New Data"
      ],
      "execution_count": 4,
      "outputs": [
        {
          "output_type": "stream",
          "text": [
            "/content/drive/My Drive/CS230 Project/Data/New Data\n"
          ],
          "name": "stdout"
        }
      ]
    },
    {
      "cell_type": "code",
      "metadata": {
        "id": "wEEIXt7RJP7H",
        "colab_type": "code",
        "colab": {
          "base_uri": "https://localhost:8080/",
          "height": 153
        },
        "outputId": "9d0ef6bb-69fb-4282-ffa8-690a327a1fe9"
      },
      "source": [
        "!git clone https://github.com/agchung/Actualmed-COVID-chestxray-dataset.git"
      ],
      "execution_count": 5,
      "outputs": [
        {
          "output_type": "stream",
          "text": [
            "Cloning into 'Actualmed-COVID-chestxray-dataset'...\n",
            "remote: Enumerating objects: 10, done.\u001b[K\n",
            "remote: Counting objects: 100% (10/10), done.\u001b[K\n",
            "remote: Compressing objects: 100% (9/9), done.\u001b[K\n",
            "remote: Total 422 (delta 1), reused 6 (delta 1), pack-reused 412\u001b[K\n",
            "Receiving objects: 100% (422/422), 1.56 GiB | 17.15 MiB/s, done.\n",
            "Resolving deltas: 100% (16/16), done.\n",
            "Checking out files: 100% (240/240), done.\n"
          ],
          "name": "stdout"
        }
      ]
    },
    {
      "cell_type": "code",
      "metadata": {
        "id": "6Elvc6sbJVc4",
        "colab_type": "code",
        "colab": {}
      },
      "source": [
        "import pandas as pd\n",
        "import os.path\n",
        "from os import path\n",
        "import shutil \n",
        "\n",
        "covid_pathn = '/content/drive/My Drive/CS230 Project/Data/New Data/covid';\n",
        "ncovid_pathn = '/content/drive/My Drive/CS230 Project/Data/New Data/ncovid';\n",
        "base_directory = '/content/drive/My Drive/CS230 Project/Data/New Data/Actualmed-COVID-chestxray-dataset/images';\n",
        "\n",
        "#check if these folders are already created \n",
        "if (path.exists(covid_pathn)==False):\n",
        "  os.mkdir(covid_pathn)\n",
        "if (path.exists(ncovid_pathn)==False):\n",
        "  os.mkdir(ncovid_pathn)\n",
        "\n",
        "#Read the CSV File for the new data\n",
        "read = pd.read_csv('/content/drive/My Drive/CS230 Project/Data/New Data/Actualmed-COVID-chestxray-dataset/metadata.csv');\n",
        "itern = read.shape[0];\n",
        "\n",
        "for k in range(itern):\n",
        "  if read['finding'][k] == 'No finding':\n",
        "      dest = shutil.copyfile(base_directory + '/' +read['imagename'][k], ncovid_pathn + '/' +read['imagename'][k]) \n",
        "\n",
        "  if read['finding'][k] == 'COVID-19':\n",
        "      dest = shutil.copyfile(base_directory + '/' +read['imagename'][k], covid_pathn + '/' +read['imagename'][k]) \n",
        "\n",
        "\n"
      ],
      "execution_count": 0,
      "outputs": []
    },
    {
      "cell_type": "code",
      "metadata": {
        "id": "i7xHZCW8KoFF",
        "colab_type": "code",
        "colab": {
          "base_uri": "https://localhost:8080/",
          "height": 51
        },
        "outputId": "8ca64419-abb5-46dd-a1e3-9988a81dc79d"
      },
      "source": [
        "image_count_covid = len(os.listdir(covid_pathn))\n",
        "image_count_noncovid = len(os.listdir(ncovid_pathn))\n",
        "print(\"Total images in COVID set: \" + str(image_count_covid))\n",
        "print(\"Total images in Non-COVID set: \" + str(image_count_noncovid))"
      ],
      "execution_count": 25,
      "outputs": [
        {
          "output_type": "stream",
          "text": [
            "Total images in COVID set: 58\n",
            "Total images in Non-COVID set: 127\n"
          ],
          "name": "stdout"
        }
      ]
    },
    {
      "cell_type": "code",
      "metadata": {
        "id": "YwneJsyhOQ8e",
        "colab_type": "code",
        "colab": {}
      },
      "source": [
        ""
      ],
      "execution_count": 0,
      "outputs": []
    }
  ]
}